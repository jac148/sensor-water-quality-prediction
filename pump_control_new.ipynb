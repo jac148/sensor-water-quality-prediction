{
 "cells": [
  {
   "cell_type": "code",
   "execution_count": 66,
   "metadata": {},
   "outputs": [],
   "source": [
    "import numpy as np  \n",
    "from scipy.integrate import odeint  \n",
    "import matplotlib.pyplot as plt\n",
    "import cvxpy as cp\n",
    "import math\n",
    "import time\n",
    "import random"
   ]
  },
  {
   "cell_type": "markdown",
   "metadata": {},
   "source": [
    "### DO Dynamics"
   ]
  },
  {
   "cell_type": "code",
   "execution_count": 67,
   "metadata": {},
   "outputs": [
    {
     "data": {
      "text/plain": [
       "'\\n    # 시뮬레이션 함수\\n    def simulate(self, total_minutes, pump_schedule):\\n        time_intervals = total_minutes // 5  # 5분 단위로 나눈 시간 간격 수\\n        t = np.linspace(0, total_minutes / 60, time_intervals + 1)  # 시뮬레이션 시간 벡터 (5분 단위)\\n        DO = self.DO  # 초기 DO 값\\n        DO_history = np.zeros(len(t), dtype=float)\\n\\n        for i in range(1, len(t)):  # 시간 벡터를 순회하며 DO 업데이트\\n            minute_index = (i - 1) // 3  # 15분 단위로 펌프 스케줄링\\n            if minute_index < len(pump_schedule):\\n                pump_on = pump_schedule[minute_index]\\n            else:\\n                pump_on = pump_schedule[-1]\\n            \\n            delta_t = t[i] - t[i - 1]\\n            DO = odeint(self.oxygen_dynamics, DO, [t[i - 1], t[i]], args=(pump_on, delta_t))[-1]\\n            DO_history[i] = DO\\n            \\n        return t, DO_history\\n'"
      ]
     },
     "execution_count": 67,
     "metadata": {},
     "output_type": "execute_result"
    }
   ],
   "source": [
    "class FishTank:\n",
    "    def __init__(self, initial_DO, temperature, fish_count, plant_count, organic_matter, pump_rate):\n",
    "        self.DO = initial_DO  # 초기 DO 값\n",
    "        self.temperature = temperature  # 수온\n",
    "        self.fish_count = fish_count  # 물고기 수\n",
    "        self.plant_count = plant_count  # 식물 수\n",
    "        self.organic_matter = organic_matter  # 유기물 양\n",
    "        self.pump_rate = pump_rate  # 펌프가 켜졌을 때 산소 증가율\n",
    "\n",
    "    # 시간당 DO 변화율을 계산하는 함수\n",
    "    def oxygen_dynamics(self, DO, t, pump_on):\n",
    "        # 물고기 산소 소비(시간당 산소 소비율)\n",
    "        fish_oxygen_consumption = self.fish_count * self.fish_oxygen_rate()\n",
    "        # 식물 산소 소비\n",
    "        plant_oxygen_consumption = self.plant_count * self.plant_oxygen_rate()\n",
    "        # 유기물 분해에 의한 산소 소비\n",
    "        organic_oxygen_consumption = self.organic_matter_decomposition_rate()\n",
    "        # 총 산소 소비\n",
    "        total_oxygen_consumption = fish_oxygen_consumption + plant_oxygen_consumption + organic_oxygen_consumption\n",
    "        \n",
    "        # 펌프 켜져 있을 때 산소 공급량\n",
    "        oxygen_addition = self.pump_rate if pump_on else 0\n",
    "        \n",
    "        dDOdt_10 = (oxygen_addition - total_oxygen_consumption)\n",
    "                \n",
    "        # 온도에 따른 산소 소비율 변화\n",
    "        temperature_factor = (self.temperature - 10)/10\n",
    "        if isinstance(temperature_factor, complex):\n",
    "            temperature_factor = temperature_factor.real\n",
    "    \n",
    "        dDOdt_float = dDOdt_10 ** temperature_factor\n",
    "        \n",
    "        # 복소수인지 확인 후 실수로 변환\n",
    "        if isinstance(dDOdt_float, complex):\n",
    "            dDOdt_float = dDOdt_float.real\n",
    "        \n",
    "        dDOdt = round(dDOdt_float, 2)\n",
    "        return dDOdt\n",
    "\n",
    "\n",
    "    def fish_oxygen_rate(self):\n",
    "        return 0.1\n",
    "\n",
    "    def plant_oxygen_rate(self):\n",
    "        return 0.05\n",
    "\n",
    "\n",
    "    def organic_matter_decomposition_rate(self):\n",
    "        return self.organic_matter * 0.01\n",
    "\n",
    "    # 온도에 따른 산소 소비율 변화 계산\n",
    "    # def temperature_effect(self):\n",
    "    #     return 1 + (self.temperature - 20) * 0.05 \n",
    "    # 20도가 기준, 온도 1도 증가 시 5% 증가\n",
    "\n",
    "\"\"\"\n",
    "    # 시뮬레이션 함수\n",
    "    def simulate(self, total_minutes, pump_schedule):\n",
    "        time_intervals = total_minutes // 5  # 5분 단위로 나눈 시간 간격 수\n",
    "        t = np.linspace(0, total_minutes / 60, time_intervals + 1)  # 시뮬레이션 시간 벡터 (5분 단위)\n",
    "        DO = self.DO  # 초기 DO 값\n",
    "        DO_history = np.zeros(len(t), dtype=float)\n",
    "\n",
    "        for i in range(1, len(t)):  # 시간 벡터를 순회하며 DO 업데이트\n",
    "            minute_index = (i - 1) // 3  # 15분 단위로 펌프 스케줄링\n",
    "            if minute_index < len(pump_schedule):\n",
    "                pump_on = pump_schedule[minute_index]\n",
    "            else:\n",
    "                pump_on = pump_schedule[-1]\n",
    "            \n",
    "            delta_t = t[i] - t[i - 1]\n",
    "            DO = odeint(self.oxygen_dynamics, DO, [t[i - 1], t[i]], args=(pump_on, delta_t))[-1]\n",
    "            DO_history[i] = DO\n",
    "            \n",
    "        return t, DO_history\n",
    "\"\"\" "
   ]
  },
  {
   "cell_type": "markdown",
   "metadata": {},
   "source": [
    "### PID Controller"
   ]
  },
  {
   "cell_type": "code",
   "execution_count": 68,
   "metadata": {},
   "outputs": [],
   "source": [
    "class PIDController:\n",
    "    def __init__(self, Kp, Ki, Kd, setpoint):\n",
    "        self.Kp = Kp\n",
    "        self.Ki = Ki\n",
    "        self.Kd = Kd\n",
    "        self.setpoint = setpoint\n",
    "        self.previous_error = 0\n",
    "        self.integral = 0\n",
    "\n",
    "    def update(self, measurement, dt):\n",
    "        error = self.setpoint - measurement\n",
    "        self.integral += error * self.Ki * dt\n",
    "        derivative = (error - self.previous_error) / dt * self.Kd\n",
    "        \n",
    "        output = self.Kp * error + self.integral + derivative\n",
    "        \n",
    "        self.previous_error = error\n",
    "        \n",
    "        return output\n"
   ]
  },
  {
   "cell_type": "code",
   "execution_count": 69,
   "metadata": {},
   "outputs": [],
   "source": [
    "# 초기 설정 값\n",
    "initial_DO = 4.1\n",
    "temperature = 18.2  #두개만 따로 나중에 불러오면 됨\n",
    "fish_count = 90\n",
    "plant_count = 5 \n",
    "organic_matter = 1\n",
    "pump_rate = 15\n",
    "\n",
    "tank = FishTank(initial_DO, temperature, fish_count, plant_count, organic_matter, pump_rate)"
   ]
  },
  {
   "cell_type": "code",
   "execution_count": 70,
   "metadata": {},
   "outputs": [
    {
     "name": "stdout",
     "output_type": "stream",
     "text": [
      "14\n"
     ]
    }
   ],
   "source": [
    "pid = PIDController(Kp=0.3, Ki=0.05, Kd=0.1, setpoint=4.5)\n",
    "\n",
    "# 시뮬레이션 15분\n",
    "current_time = 0\n",
    "time_step = 1/12\n",
    "\n",
    "DO_values = []  # 시간에 따른 DO 값을 저장할 리스트\n",
    "pump_states = []  # 시간에 따른 펌프 작동 여부를 저장할 리스트\n",
    "\n",
    "i=1\n",
    "while current_time < time_step * 24:  # n 시간 동안 시뮬레이션\n",
    "    DO = tank.DO\n",
    "    \n",
    "    # 노이즈 추가 (예: -0.1 ~ 0.1 범위의 노이즈)\n",
    "    noise = random.uniform(-0.5, 0.5)\n",
    "    \n",
    "    DO_values.append(DO)\n",
    "    control_signal = pid.update(DO, time_step)\n",
    "    pump_on = 1 if control_signal > 0 else 0\n",
    "    pump_states.append(pump_on)\n",
    "    dDOdt = tank.oxygen_dynamics(DO, current_time, pump_on)\n",
    "    \n",
    "    # DO 업데이트\n",
    "    tank.DO += dDOdt * time_step + noise\n",
    "    current_time += time_step\n",
    "    \n",
    "    # print(f\"{i:.0f}step: {current_time * 60:.0f} min, DO: {tank.DO:.3f}, pump: {'ON' if pump_on else 'OFF'}, {control_signal:.3f}\")\n",
    "    time.sleep(0.2)  # 시뮬레이션 속도 조절을 위한 딜레이\n",
    "    \n",
    "    \n",
    "    i+=1\n",
    "    \n",
    "print(pump_states.count(1))    "
   ]
  },
  {
   "cell_type": "code",
   "execution_count": null,
   "metadata": {},
   "outputs": [],
   "source": []
  },
  {
   "cell_type": "code",
   "execution_count": 71,
   "metadata": {},
   "outputs": [
    {
     "data": {
      "image/png": "[encoded data removed]",
      "text/plain": [
       "<Figure size 1000x800 with 2 Axes>"
      ]
     },
     "metadata": {},
     "output_type": "display_data"
    }
   ],
   "source": [
    "\"\"\"\n",
    "# 그래프 그리기\n",
    "fig, ax1 = plt.subplots()\n",
    "\n",
    "color = 'tab:blue'\n",
    "ax1.set_xlabel('Time (5m)')\n",
    "ax1.set_ylabel('DO', color=color)\n",
    "ax1.plot(range(len(DO_values)), DO_values, color=color)\n",
    "ax1.tick_params(axis='y', labelcolor=color)\n",
    "\n",
    "ax2 = ax1.twinx()\n",
    "color = 'tab:red'\n",
    "ax2.set_ylabel('pump', color=color)\n",
    "ax2.plot(range(len(pump_states)), pump_states, color=color)\n",
    "ax2.tick_params(axis='y', labelcolor=color)\n",
    "\n",
    "plt.grid(True)\n",
    "plt.show()\n",
    "\"\"\"\n",
    "\n",
    "# 결과를 보간하여 펌프 상태를 일정 시간 유지\n",
    "DO_times = np.arange(0, len(DO_values) * time_step, time_step)\n",
    "pump_times = np.arange(0, len(pump_states) * time_step, time_step)\n",
    "\n",
    "# print(len(DO_times))\n",
    "# print(len(DO_values))\n",
    "\n",
    "DO_values_interp = np.interp(np.arange(0, 24, time_step), DO_times, DO_values)\n",
    "pump_states_interp = np.interp(np.arange(0, 24, time_step), pump_times, pump_states)\n",
    "\n",
    "# 시각화\n",
    "fig, (ax1, ax2) = plt.subplots(2, 1, sharex=True, figsize=(10, 8))\n",
    "\n",
    "# 펌프 작동 여부\n",
    "color = 'tab:red'\n",
    "ax1.set_ylabel('on/off', color=color)\n",
    "ax1.step(range(len(pump_states)), pump_states, color=color, where='post')\n",
    "ax1.tick_params(axis='y', labelcolor=color)\n",
    "ax1.grid(True, axis='x')\n",
    "ax1.set_yticks([0, 1])\n",
    "ax1.set_title('Pump')\n",
    "\n",
    "# DO 변화\n",
    "color = 'tab:blue'\n",
    "ax2.set_xlabel('step(time_step term)')\n",
    "ax2.set_ylabel('DO', color=color)\n",
    "ax2.plot(range(len(DO_values)), DO_values, color=color)\n",
    "ax2.tick_params(axis='y', labelcolor=color)\n",
    "ax2.grid(True, axis='x')\n",
    "ax2.set_title('DO')\n",
    "\n",
    "plt.xticks(np.arange(1, len(DO_values)))\n",
    "plt.tight_layout()\n",
    "plt.show()"
   ]
  },
  {
   "cell_type": "markdown",
   "metadata": {},
   "source": [
    "* 센서-컨트롤러-액츄에이터\n",
    "* 모델을 시스템에 적용시키면 좋은데 힘드니까 모델=시스템 가정\n",
    "* control parameter를 통해 문 열마나 열지 결정하게 되면 기존 정보가 바뀌어야지\n",
    "* 지금 인공지능: do1->(lstm)->do2 이 do2에서 do1로 다시 입력값 반복\n",
    "* 특정 임계점을 유지하도록 펌프를 작동시키는 게 중요하겠지\n",
    "\n",
    "* 어떤 모델인지\n",
    "* lstm에는 펌프관련 내용이 없어서 그걸 연결할 수 있는 모델을 활용해야\n",
    "\n",
    "* pid의출력은 펌프 입력이고 펌프 출력은 \n",
    "---\n",
    "* time_step 별로 결과 비슷한 이유\n",
    "1. 파라미터 재설정\n",
    "2. 산소 변화율, 산소 공급량이 일정하기 때문에 펌프가 작동되는 시간도 비슷한거아닐가?\n",
    "-> 노이즈 고려 ㄱㄱ\n",
    "\n",
    "\n",
    "* 그럼 지금 할거\n",
    "1. do 임계선.. 특정값 or 범위?\n",
    "2. 하루종일 켜져있는데 왜 do는 거의 그대로임? (아 물고기 호흡량이 너무 많아서 그런가)\n",
    "3. ai 연결\n",
    "\n",
    "* 산소 일정 이유\n",
    "산소 공급과 소모의 균형 / 효율적인 물 순환 시스템\n",
    "\n",
    "---\n",
    "인공지능으로 예측된거랑 제어를통해 예측된거랑 비교해서 \n",
    "15분 이후 예측 활용..\n",
    "\n",
    "수온에따라서 올라가는 호흡량 기준"
   ]
  },
  {
   "cell_type": "markdown",
   "metadata": {},
   "source": [
    "### MPC"
   ]
  },
  {
   "cell_type": "code",
   "execution_count": 72,
   "metadata": {},
   "outputs": [],
   "source": [
    "class MPCController:\n",
    "    def __init__(self, tank, horizon, target_DO, DO_min, DO_max):\n",
    "        self.tank = tank\n",
    "        self.horizon = horizon  # 예측 시간대\n",
    "        self.target_DO = target_DO \n",
    "        self.DO_min = DO_min \n",
    "        self.DO_max = DO_max\n",
    "\n",
    "    def optimize(self, current_DO):\n",
    "        u = cp.Variable(self.horizon, boolean=True)  # 펌프 온오프 결정 변수\n",
    "        DO = cp.Variable(self.horizon + 1)  # 예측 do 농도\n",
    "        \n",
    "        cost = 0  # 초기 비용 함수\n",
    "        constraints = [DO[0] == current_DO]  # 초기 do 농도 제약\n",
    "\n",
    "        for t in range(self.horizon):\n",
    "            dDOdt = self.tank.oxygen_dynamics(DO[t], t, u[t])\n",
    "            constraints += [DO[t+1] == DO[t] + dDOdt]\n",
    "            constraints += [DO[t+1] >= self.DO_min]\n",
    "            constraints += [DO[t+1] <= self.DO_max]\n",
    "            cost += cp.square(DO[t+1] - self.target_DO)  # 비용 함수 업데이트\n",
    "\n",
    "        \n",
    "        problem = cp.Problem(cp.Minimize(cost), constraints) \n",
    "        problem.solve()\n",
    "        \n",
    "        return u.value  # 최적의 펌프 제어 신호 반환\n",
    "    "
   ]
  },
  {
   "cell_type": "code",
   "execution_count": 73,
   "metadata": {},
   "outputs": [],
   "source": [
    "# MPC 설정\n",
    "horizon = 5\n",
    "target_DO = pid.setpoint  # 목표 용존산소 농도\n",
    "DO_min = 3.5  # 최소 용존산소 농도\n",
    "DO_max = 7.0  # 최대 용존산소 농도\n",
    "\n"
   ]
  },
  {
   "cell_type": "code",
   "execution_count": 74,
   "metadata": {},
   "outputs": [
    {
     "name": "stdout",
     "output_type": "stream",
     "text": [
      "Optimal pump control for the next 5 hours: None\n"
     ]
    },
    {
     "data": {
      "text/plain": [
       "'\\nfor horizon in range(1, 25):\\n    # 현재 DO에서 최적의 펌프 제어 신호 계산\\n    current_DO = 8.0  # 현재 용존산소 농도\\n    control_signal = mpc.optimize(current_DO)  # 최적의 펌프 제어 신호 계산\\n    print(f\"Optimal pump control for the next {horizon} hours: {control_signal}\")  # 최적의 펌프 제어 신호 출력\\n'"
      ]
     },
     "execution_count": 74,
     "metadata": {},
     "output_type": "execute_result"
    }
   ],
   "source": [
    "mpc = MPCController(tank, horizon, target_DO, DO_min, DO_max)  # MPCController 객체 생성\n",
    "\n",
    "current_DO = initial_DO  # 현재 용존산소 농도\n",
    "control_signal_mpc = mpc.optimize(current_DO)  # 최적의 펌프 제어 신호 계산\n",
    "print(f\"Optimal pump control for the next {horizon} hours: {control_signal_mpc}\")  # 최적의 펌프 제어 신호 출력\n",
    "\n",
    "\"\"\"\n",
    "plt.title('Pump Control')\n",
    "plt.xlabel('Time')\n",
    "plt.ylabel('Control Signal')\n",
    "plt.legend()\n",
    "plt.grid(True)\n",
    "plt.xticks(range(1, 176))\n",
    "plt.yticks([0, 1])\n",
    "plt.show()\n",
    "\"\"\"\n",
    "\n",
    "\"\"\"\n",
    "for horizon in range(1, 25):\n",
    "    # 현재 DO에서 최적의 펌프 제어 신호 계산\n",
    "    current_DO = 8.0  # 현재 용존산소 농도\n",
    "    control_signal = mpc.optimize(current_DO)  # 최적의 펌프 제어 신호 계산\n",
    "    print(f\"Optimal pump control for the next {horizon} hours: {control_signal}\")  # 최적의 펌프 제어 신호 출력\n",
    "\"\"\""
   ]
  },
  {
   "cell_type": "markdown",
   "metadata": {},
   "source": [
    "### simulate함수 시험용"
   ]
  },
  {
   "cell_type": "code",
   "execution_count": 75,
   "metadata": {},
   "outputs": [
    {
     "data": {
      "text/plain": [
       "\"\\ntank = FishTank(initial_DO, temperature, fish_count, plant_count, organic_matter, pump_rate)\\n\\n# 펌프 일정 (하루 단위로 켜고 끄기: 1 켜짐 0 꺼짐)\\npump_schedule = [0] * 1 + [1] * 4 + [0] * 2 \\n\\n# 시뮬레이션 실행\\nt, DO_history = tank.simulate(7, pump_schedule)\\n\\n# 시각화\\nplt.plot(t, DO_history)\\nplt.xlabel('Time')\\nplt.ylabel('DO (mg/L)')\\nplt.title('DO')\\nplt.show()\\n\""
      ]
     },
     "execution_count": 75,
     "metadata": {},
     "output_type": "execute_result"
    }
   ],
   "source": [
    "\"\"\"\n",
    "tank = FishTank(initial_DO, temperature, fish_count, plant_count, organic_matter, pump_rate)\n",
    "\n",
    "# 펌프 일정 (하루 단위로 켜고 끄기: 1 켜짐 0 꺼짐)\n",
    "pump_schedule = [0] * 1 + [1] * 4 + [0] * 2 \n",
    "\n",
    "# 시뮬레이션 실행\n",
    "t, DO_history = tank.simulate(7, pump_schedule)\n",
    "\n",
    "# 시각화\n",
    "plt.plot(t, DO_history)\n",
    "plt.xlabel('Time')\n",
    "plt.ylabel('DO (mg/L)')\n",
    "plt.title('DO')\n",
    "plt.show()\n",
    "\"\"\""
   ]
  }
 ],
 "metadata": {
  "kernelspec": {
   "display_name": "Python 3",
   "language": "python",
   "name": "python3"
  },
  "language_info": {
   "codemirror_mode": {
    "name": "ipython",
    "version": 3
   },
   "file_extension": ".py",
   "mimetype": "text/x-python",
   "name": "python",
   "nbconvert_exporter": "python",
   "pygments_lexer": "ipython3",
   "version": "3.12.0"
  }
 },
 "nbformat": 4,
 "nbformat_minor": 2
}
